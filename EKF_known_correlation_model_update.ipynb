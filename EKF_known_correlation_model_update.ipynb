{
 "cells": [
  {
   "cell_type": "markdown",
   "metadata": {},
   "source": [
    "## EKF Localisation using UTIAS dataset with known correlation"
   ]
  },
  {
   "cell_type": "markdown",
   "metadata": {},
   "source": [
    "### Effect of Model change on filter "
   ]
  },
  {
   "cell_type": "markdown",
   "metadata": {},
   "source": [
    "This notebook explores the impact of model change on filter performance; Previous model by Andrew Kramer\n",
    "seemed to overfit the problem in hand with process noise parameters tuned to achieve better performance.\n",
    "\n",
    "So, in this notebook, the EKF model and noise parameters are changed to standard differential models and filter performance is analysed"
   ]
  },
  {
   "cell_type": "markdown",
   "metadata": {},
   "source": [
    "### Importing packages and other helper files"
   ]
  },
  {
   "cell_type": "code",
   "execution_count": 1,
   "metadata": {},
   "outputs": [],
   "source": [
    "import numpy as np\n",
    "import matplotlib.pyplot as plt\n",
    "import time\n",
    "\n",
    "import helper_functions as help_fns\n",
    "import EKF_helper_functions as EKF\n",
    "from motion_models import diff_drive_motion_model as fk\n",
    "from measurement_models import lidar_2d_model as hk\n",
    "from plot_functions import plot_cov_ellipse\n",
    "\n",
    "from IPython import display"
   ]
  },
  {
   "cell_type": "markdown",
   "metadata": {},
   "source": [
    "### Load and resample raw data from UTIAS data set, reading Matlab reference output"
   ]
  },
  {
   "cell_type": "code",
   "execution_count": 2,
   "metadata": {},
   "outputs": [
    {
     "name": "stdout",
     "output_type": "stream",
     "text": [
      "Loading data\n",
      "Reading robot1_Groundtruth data\n",
      "Reading robot1_odometry data\n",
      "Reading robot1_measurements data\n",
      "Robot1 data read successfully\n",
      "------------------------------------------------\n",
      "All data successfully read\n",
      "------------------------------------------------\n",
      "Sampled data successfully\n",
      "-------------------------\n",
      "Loaded matlab reference output\n"
     ]
    }
   ],
   "source": [
    "#sample time of the simulation\n",
    "deltaT = 0.02; \n",
    "\n",
    "#from Andre Kramer's script\n",
    "r_robot = 0.165;\n",
    "r_landmark = 0.055;\n",
    "\n",
    "\n",
    "#The robot's position groundtruth, odometry, and measurements are stored in Robots\n",
    "Barcodes, Landmark_Groundtruth, Robots = help_fns.load_MRCLAM_dataSet();\n",
    "Barcodes = Barcodes.astype(int)\n",
    "codedict = dict(np.column_stack((Barcodes[:,1], Barcodes[:,0])))\n",
    "Robots, timesteps = help_fns.sample_MRCLAM_dataSet(Robots, deltaT)\n",
    "\n",
    "matlab_op_file = '../localization/test.dat'\n",
    "try:\n",
    "    matlab_op_data = np.loadtxt(matlab_op_file)\n",
    "    print('Loaded matlab reference output')\n",
    "except:\n",
    "    print('Cannot Load matlab reference output')"
   ]
  },
  {
   "cell_type": "markdown",
   "metadata": {},
   "source": [
    "### Defining the motion, measurement models and the necessary jacobians"
   ]
  },
  {
   "cell_type": "code",
   "execution_count": 3,
   "metadata": {},
   "outputs": [],
   "source": [
    "#to include images of the models and jacobians to be used in the filter"
   ]
  },
  {
   "cell_type": "markdown",
   "metadata": {},
   "source": [
    "### Defining constants for the filter"
   ]
  },
  {
   "cell_type": "code",
   "execution_count": 4,
   "metadata": {},
   "outputs": [],
   "source": [
    "#for now assumed the measurement noise and initial uncertainty are known, process noise is the only unknown\n",
    "sigma_range   = 2\n",
    "sigma_bearing = 3\n",
    "sigma_id      = 1\n",
    "\n",
    "#very small as we're starting from the GT data\n",
    "initial_measurement_variance = 0.01  \n",
    "\n",
    "\n",
    "def compute_noise_matrices(params):\n",
    "    \"\"\"\"\n",
    "    Given the std dev of wheel odometry sensors and lidar measurements\n",
    "    returns the variance matrices\n",
    "    \"\"\"\n",
    "    M = np.array([\n",
    "            [params[0]**2, 0],\n",
    "            [0, params[1]**2]\n",
    "            ])\n",
    "\n",
    "    R = np.array([\n",
    "            [sigma_range**2, 0, 0],\n",
    "            [0, sigma_bearing**2, 0],\n",
    "            [0, 0, sigma_id**2]\n",
    "            ])\n",
    "    return M, R"
   ]
  },
  {
   "cell_type": "markdown",
   "metadata": {},
   "source": [
    "### Initialise estimated parameters to zeros"
   ]
  },
  {
   "cell_type": "code",
   "execution_count": 5,
   "metadata": {},
   "outputs": [],
   "source": [
    "def initialise_filter(Robots, robot_num, start, params):\n",
    "\n",
    "    # set start time\n",
    "    t = Robots[str(robot_num)]['G'][start, 0]\n",
    "\n",
    "    # set starting pose mean to pose groundtruth at start time\n",
    "    poseMean = Robots[str(robot_num)]['G'][start,1:4].reshape(3,1)\n",
    "    #poseCov = np.eye(3) *  params['initial_measurement_variance']\n",
    "    poseCov = np.eye(3) *  initial_measurement_variance\n",
    "\n",
    "    #tracks which measurement is next received\n",
    "    #iterating to measurement index which time corresponds to \n",
    "    measurementIndex = 0;\n",
    "\n",
    "    #advance measurement index until the next measurement time is greater than the starting time\n",
    "    while (Robots[str(robot_num)]['M'][measurementIndex, 0] < (t - 0.05)):\n",
    "            measurementIndex = measurementIndex + 1;\n",
    "            \n",
    "    return poseMean, poseCov, measurementIndex"
   ]
  },
  {
   "cell_type": "markdown",
   "metadata": {},
   "source": [
    "### Run filter for input Odometry and Lidar data"
   ]
  },
  {
   "cell_type": "code",
   "execution_count": 6,
   "metadata": {},
   "outputs": [],
   "source": [
    "#loop through all odometry and measurement samples\n",
    "#updating the robot's pose estimate with each step\n",
    "#reference table 7.2 in Probabilistic Robotics\n",
    "\n",
    "# start index default is set to 600 because earlier data was found to cause problems\n",
    "def run_filter(Robots, params, robot_num =1, start = 600):\n",
    "    poseMean, poseCov, measurementIndex = initialise_filter(Robots, robot_num, start, params)\n",
    "    M,R = compute_noise_matrices(params)\n",
    "    tgt_bot = Robots[str(robot_num)]\n",
    "    N_timesteps = tgt_bot['G'].shape[0]\n",
    "\n",
    "    # initialize time, and pose estimate\n",
    "    filter_op = {}\n",
    "    filter_op['Est'] = np.zeros((N_timesteps, 4))\n",
    "    filter_op['Est_var'] = np.zeros((N_timesteps, 3, 3))\n",
    "\n",
    "    \n",
    "    for i in range(start, tgt_bot['G'].shape[0]):\n",
    "\n",
    "        #update time\n",
    "        t = tgt_bot['G'][i,0]\n",
    "\n",
    "        \"\"\" #######   Prediction step     #######   \"\"\"    \n",
    "        #wrap to pi\n",
    "        poseMean[2, 0] =  help_fns.conBear(poseMean[2,0])\n",
    "        u_t  = np.array([tgt_bot['O'][i,1], tgt_bot['O'][i,2]])   \n",
    "        \n",
    "        poseMeanBar, poseCovBar = EKF.ekf_predict_step(poseMean, poseCov, u_t, fk, M, deltaT)\n",
    "        poseMeanBar[2, 0] =  help_fns.conBear(poseMeanBar[2,0])\n",
    "\n",
    "        #get measurements for the current timestep, if any exist\n",
    "        z, measurementIndex = help_fns.getObservations(Robots, robot_num, t, measurementIndex, codedict)\n",
    "        \n",
    "        #if any measurements are available\n",
    "        if z[2,0] > 1:\n",
    "            for k in range(0, z.shape[1]): #loop over every measurement\n",
    "                \"\"\" #######   Measurement update step     #######   \"\"\"    \n",
    "                j = int(z[2,k]);            \n",
    "                l_data = np.array([Landmark_Groundtruth[j-1, 1], Landmark_Groundtruth[j-1, 2], j])\n",
    "                zk = z[:,k].reshape(3,1)\n",
    "                poseMeanBar,poseCovBar = EKF.ekf_update_step(poseMeanBar,poseCovBar, zk, hk, l_data, R, deltaT)\n",
    "                poseMeanBar[2, 0] =  help_fns.conBear(poseMeanBar[2,0])\n",
    "\n",
    "        #update pose mean and covariance; add constraints heading to between 0 and 2*pi\n",
    "        poseMean = poseMeanBar;\n",
    "        poseMean[2] = help_fns.conBear(poseMean[2]);\n",
    "        poseCov = poseCovBar;\n",
    "\n",
    "        #add pose mean to estimated position vector\n",
    "        filter_op['Est'][i,:] = np.array([t, poseMean[0], poseMean[1], poseMean[2]])\n",
    "        filter_op['Est_var'][i,:] = poseCov\n",
    "    return filter_op"
   ]
  },
  {
   "cell_type": "code",
   "execution_count": 7,
   "metadata": {},
   "outputs": [],
   "source": [
    "\"\"\" ## process noise parameters found by manual Grid searching and other algorithms; need to be improved \"\"\"\n",
    "#odometry reading noise parameters of format ['sigma_v_t', sigma_omega_t]\n",
    "noise_params    = [1.05, 0.18]"
   ]
  },
  {
   "cell_type": "code",
   "execution_count": 8,
   "metadata": {},
   "outputs": [],
   "source": [
    "#remember python indexing starts t 0, whereas matlab starts with 1\n",
    "EKF_batch_filter = run_filter(Robots, noise_params, start = 600)"
   ]
  },
  {
   "cell_type": "markdown",
   "metadata": {},
   "source": [
    "### RMSE Error as loss function"
   ]
  },
  {
   "cell_type": "code",
   "execution_count": 9,
   "metadata": {},
   "outputs": [
    {
     "name": "stdout",
     "output_type": "stream",
     "text": [
      "EKF estimated OP total deviation is 144521.45436134932\n",
      "Matlab ref    OP total deviation is 135818.1469195331\n"
     ]
    }
   ],
   "source": [
    "gt_pose  = Robots['1']['G'][:,1:]\n",
    "est_pose = EKF_batch_filter['Est'][:,1:]\n",
    "\n",
    "ekf_filter_loss    = help_fns.path_loss2(gt_pose, est_pose, 600, include_theta=True)\n",
    "matlab_ref_op_loss =  help_fns.path_loss2(gt_pose, matlab_op_data[:,1:], 600, include_theta=True)\n",
    "\n",
    "print('EKF estimated OP total deviation is ' + str(ekf_filter_loss))\n",
    "print('Matlab ref    OP total deviation is ' + str(matlab_ref_op_loss))"
   ]
  },
  {
   "cell_type": "code",
   "execution_count": 10,
   "metadata": {},
   "outputs": [],
   "source": [
    "def run_filter_params(Robots, params, start=600):\n",
    "    batch_filter = run_filter(Robots, params, start = 600)\n",
    "    est_pose     = batch_filter['Est'][:,1:]\n",
    "    filter_loss  = help_fns.path_loss2(gt_pose, est_pose, 600, include_theta=True)\n",
    "    #print('Batch_filter OP total deviation is ' + str(filter_loss))\n",
    "    return batch_filter, filter_loss"
   ]
  },
  {
   "cell_type": "code",
   "execution_count": 11,
   "metadata": {},
   "outputs": [
    {
     "name": "stdout",
     "output_type": "stream",
     "text": [
      "CPU times: user 5.08 s, sys: 11.7 ms, total: 5.09 s\n",
      "Wall time: 4.57 s\n"
     ]
    }
   ],
   "source": [
    "%%time\n",
    "temp, err = run_filter_params(Robots, noise_params, 600)"
   ]
  },
  {
   "cell_type": "markdown",
   "metadata": {},
   "source": [
    "### Manual Grid search code"
   ]
  },
  {
   "cell_type": "raw",
   "metadata": {},
   "source": [
    "search_space = np.linspace(0.18, 0.177, num = 10)\n",
    "print(search_space)"
   ]
  },
  {
   "cell_type": "raw",
   "metadata": {},
   "source": [
    "err_list = []\n",
    "for x in search_space:\n",
    "#     for y in search_space:\n",
    "    p = [1.055, x]\n",
    "    _, err = run_filter_params(Robots, p, start=600)\n",
    "    print('Error =' + str(err) + ', params = ' + str(p))\n",
    "    err_list.append((p, err))"
   ]
  },
  {
   "cell_type": "markdown",
   "metadata": {},
   "source": [
    "### Sample results by manual gird search"
   ]
  },
  {
   "cell_type": "raw",
   "metadata": {},
   "source": [
    "search_space = np.logspace(-1, -4, num = 4)\n",
    "Error =162085.77763292775, params = [0.1, 0.1]\n",
    "\n",
    "search_space = np.logspace(0, -1, num = 5)\n",
    "Error =150123.17733378644, params = [1.0, 0.1778279410038923]\n",
    "Error =150512.3721767586, params = [0.5623413251903491, 0.1778279410038923]\n",
    "\n",
    "search_space = np.logspace(-0.5, -1.5, num = 5)\n",
    "Error =162085.77763292775, params = [0.1, 0.1]\n",
    "\n",
    "search_space = np.linspace(0.9, 0.5, num = 10)\n",
    "p = [x, 0.177]\n",
    "Error =149746.64378815246, params = [0.5888888888888889, 0.177]\n",
    "\n",
    "search_space = np.linspace(0.2, 0.1, num = 10)\n",
    "p = [0.588, x]\n",
    "Error =149743.93579342111, params = [0.588, 0.17777777777777778]\n",
    "Error =149999.19438072114, params = [0.588, 0.16666666666666669]\n",
    "Error =150636.0947671916, params = [0.588, 0.15555555555555556]\n",
    "\n",
    "search_space = np.linspace(1.5, 1.0, num = 10)\n",
    "p = [x, 0.177]\n",
    "Error =145714.5665084718, params = [1.2222222222222223, 0.177]\n",
    "Error =145323.34890952733, params = [1.1666666666666667, 0.177]\n",
    "Error =150475.3316419742, params = [1.1111111111111112, 0.177]\n",
    "Error =144347.53532598435, params = [1.0555555555555556, 0.177]\n",
    "\n",
    "\n",
    "search_space = np.linspace(1.1, 1.0, num = 10)\n",
    "p = [x, 0.177]\n",
    "Error =144603.18709572582, params = [1.0666666666666667, 0.177]\n",
    "Error =144347.53532598435, params = [1.0555555555555556, 0.177]\n",
    "\n",
    "search_space = np.linspace(0.18, 0.177, num = 10)\n",
    "p = [1.055, x]\n",
    "Error =144273.26715620921, params = [1.055, 0.18]\n",
    "Error =144282.80906875603, params = [1.055, 0.17966666666666667]\n",
    "Error =144293.8730606183, params = [1.055, 0.17933333333333332]"
   ]
  },
  {
   "cell_type": "markdown",
   "metadata": {},
   "source": [
    "### Twiddle algorithm "
   ]
  },
  {
   "cell_type": "raw",
   "metadata": {},
   "source": [
    "A parameter search algorithm referenced from Udacity's Artificial intelligence for Robotics free course; \n",
    "Suffers from local optima yet achieves decent results with simple formulation"
   ]
  },
  {
   "cell_type": "code",
   "execution_count": 12,
   "metadata": {},
   "outputs": [
    {
     "data": {
      "text/plain": [
       "[1.05, 0.18]"
      ]
     },
     "execution_count": 12,
     "metadata": {},
     "output_type": "execute_result"
    }
   ],
   "source": [
    "noise_params"
   ]
  },
  {
   "cell_type": "raw",
   "metadata": {},
   "source": [
    "# to add stop condition feature either with num of iterations, keyboard interuppt \n",
    "\n",
    "def twiddle(initial_params, tol=0.2): \n",
    "    # Don't forget to call `make_robot` before every call of `run`!\n",
    "    n_params = 2\n",
    "    params  = initial_params\n",
    "    dparams = [1.0 for x in range(n_params)]\n",
    "    \n",
    "    traj, best_err = run_filter_params(Robots, params, 600)\n",
    "     \n",
    "    start_time = time.time()\n",
    "    count = 0\n",
    "    while sum(dparams) > tol :\n",
    "        for i in range(len(params)):\n",
    "            params[i] += dparams[i]\n",
    "            count += 1\n",
    "            traj, err = run_filter_params(Robots, params, 600)\n",
    "            if err < best_err:\n",
    "                best_err = err\n",
    "                dparams[i] *=1.1\n",
    "            else:\n",
    "                params[i] -= 2 *dparams[i]\n",
    "                traj, err = run_filter_params(Robots, params, 600)\n",
    "                if err < best_err:\n",
    "                    best_err = err\n",
    "                    dparams[i] *=1.1                \n",
    "                else:\n",
    "                    params[i] +=dparams[i]\n",
    "                    dparams[i] *=0.9\n",
    "            print('Error at iter ' + str(count) + ' = ' + str(err) + 'params = ' + str(params))\n",
    "    end_time = time.time()\n",
    "    print('Total time for ' + str(count) + '   iterations is  = ' + str(end_time - start_time) + 'seconds')    \n",
    "    return params, best_err"
   ]
  },
  {
   "cell_type": "raw",
   "metadata": {},
   "source": [
    "params, err = twiddle(noise_params)\n",
    "print(\"Final twiddle error = {}\".format(err))\n",
    "print(params)"
   ]
  },
  {
   "cell_type": "markdown",
   "metadata": {},
   "source": [
    "### Set plotting parameters for visualising output"
   ]
  },
  {
   "cell_type": "code",
   "execution_count": 13,
   "metadata": {},
   "outputs": [],
   "source": [
    "plot_start_index = 600\n",
    "plot_stop_index  = 20000\n",
    "plot_refresh_rate = 5.0 #time in seoconds"
   ]
  },
  {
   "cell_type": "code",
   "execution_count": 14,
   "metadata": {},
   "outputs": [],
   "source": [
    "def plot_results(Robots, filter_op, start, stop, refresh_rate):\n",
    "    step_size = int(refresh_rate / deltaT)\n",
    "    xmin, xmax = Robots['1']['G'][:,1].min(), Robots['1']['G'][:,1].max()\n",
    "    ymin, ymax = Robots['1']['G'][:,2].min(), Robots['1']['G'][:,2].max()\n",
    "\n",
    "    plt.figure(figsize=(18,12))\n",
    "    plt.axis('equal')\n",
    "    plt.xlim(xmin, xmax)\n",
    "    plt.ylim(ymin, ymax)\n",
    "    plt.grid(True)   \n",
    "\n",
    "    for i in range(start, stop, step_size):\n",
    "        plt.clf()            \n",
    "        plt.plot(Landmark_Groundtruth[:,1], Landmark_Groundtruth[:,2], 'co', label = 'Landmarks')\n",
    "\n",
    "        x,y,theta = Robots['1']['G'][i,1], Robots['1']['G'][i,2], Robots['1']['G'][i,3]\n",
    "        dx, dy = (r_robot + 0.05) * np.cos(theta), (r_robot + 0.05) * np.sin(theta) \n",
    "        plt.plot(x, y, 'go', label = 'GT_pose')\n",
    "        plt.arrow(x,y,dx,dy)\n",
    "\n",
    "        #plot_robot_pose(EKF_batch_filter['Est'][i,1:], EKF_batch_filter['Est_var'][i], 'Est pose', plot_var = True)\n",
    "        poseMean = filter_op['Est'][i,1:]\n",
    "        posecov  = filter_op['Est_var'][i][0:2, 0:2]\n",
    "        ex,ey,etheta = poseMean[0], poseMean[1], poseMean[2]\n",
    "        dex, dey = (r_robot + 0.05) * np.cos(etheta), (r_robot + 0.05) * np.sin(etheta) \n",
    "        plt.plot(ex,ey, 'rx', label = 'Est_pose')\n",
    "        plt.arrow(ex,ey,dex,dey)\n",
    "        plot_cov_ellipse(posecov, poseMean[0:2].reshape(2,1), nstd=1, alpha=0.25, color='green')\n",
    "        \n",
    "        mx,my,mtheta = matlab_op_data[i,1], matlab_op_data[i,2], matlab_op_data[i,3]\n",
    "        dmx, dmy = (r_robot + 0.05) * np.cos(mtheta), (r_robot + 0.05) * np.sin(mtheta) \n",
    "        plt.plot(mx,my, 'gx', label = 'matlab_output')\n",
    "        plt.arrow(mx,my,dmx,dmy)\n",
    "\n",
    "        plt.legend()\n",
    "        display.display(plt.gcf())\n",
    "        display.clear_output(wait=True)\n",
    "    return None"
   ]
  },
  {
   "cell_type": "code",
   "execution_count": 15,
   "metadata": {},
   "outputs": [
    {
     "data": {
      "image/png": "[encoded data removed]",
      "text/plain": [
       "<Figure size 1296x864 with 1 Axes>"
      ]
     },
     "metadata": {
      "needs_background": "light"
     },
     "output_type": "display_data"
    }
   ],
   "source": [
    "t = plot_results(Robots, EKF_batch_filter, plot_start_index, plot_stop_index, plot_refresh_rate)"
   ]
  },
  {
   "cell_type": "markdown",
   "metadata": {},
   "source": [
    "### Futher work to be done"
   ]
  },
  {
   "cell_type": "markdown",
   "metadata": {},
   "source": [
    "Parameter search by Grids and Twiddle algorithm are very general algorithms; They are not specialised at\n",
    "tuning noise parameters for filters So further work will be:\n",
    "\n",
    "1. UKF Implementation and check its performance with same parameters\n",
    "2. Establishing a standard method to find noise parameters for such problems"
   ]
  }
 ],
 "metadata": {
  "kernelspec": {
   "display_name": "Python 3",
   "language": "python",
   "name": "python3"
  },
  "language_info": {
   "codemirror_mode": {
    "name": "ipython",
    "version": 3
   },
   "file_extension": ".py",
   "mimetype": "text/x-python",
   "name": "python",
   "nbconvert_exporter": "python",
   "pygments_lexer": "ipython3",
   "version": "3.7.4"
  }
 },
 "nbformat": 4,
 "nbformat_minor": 2
}
