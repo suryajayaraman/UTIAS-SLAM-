{
 "cells": [
  {
   "cell_type": "markdown",
   "metadata": {},
   "source": [
    "## EKF Localisation using UTIAS dataset with known correlation"
   ]
  },
  {
   "cell_type": "markdown",
   "metadata": {},
   "source": [
    "### Importing packages and other helper files"
   ]
  },
  {
   "cell_type": "code",
   "execution_count": 1,
   "metadata": {},
   "outputs": [],
   "source": [
    "import numpy as np\n",
    "import matplotlib.pyplot as plt\n",
    "from helper_functions import *"
   ]
  },
  {
   "cell_type": "markdown",
   "metadata": {},
   "source": [
    "### Load and resample raw data from UTIAS data set"
   ]
  },
  {
   "cell_type": "code",
   "execution_count": 2,
   "metadata": {},
   "outputs": [
    {
     "name": "stdout",
     "output_type": "stream",
     "text": [
      "Loading data\n",
      "Reading robot1_Groundtruth data\n",
      "Reading robot1_odometry data\n",
      "Reading robot1_measurements data\n",
      "Robot1 data read successfully\n",
      "------------------------------------------------\n",
      "All data successfully read\n",
      "------------------------------------------------\n"
     ]
    }
   ],
   "source": [
    "#The robot's position groundtruth, odometry, and measurements are stored in Robots\n",
    "Barcodes, Landmark_Groundtruth, Robots = load_MRCLAM_dataSet();\n",
    "Barcodes = Barcodes.astype(int)\n",
    "codedict = dict(np.column_stack((Barcodes[:,1], Barcodes[:,0])))"
   ]
  },
  {
   "cell_type": "code",
   "execution_count": 3,
   "metadata": {},
   "outputs": [],
   "source": [
    "Robots, timesteps = sample_MRCLAM_dataSet(Robots)"
   ]
  },
  {
   "cell_type": "markdown",
   "metadata": {},
   "source": [
    "### Defining constants for the simulation"
   ]
  },
  {
   "cell_type": "code",
   "execution_count": 4,
   "metadata": {},
   "outputs": [],
   "source": [
    "deltaT = 0.02; \n",
    "\n",
    "#robot-dependent motion noise parameters, see equation 3\n",
    "alphas = [0.2, 0.03, 0.09, 0.08, 0, 0];  \n",
    "\n",
    "#robot-dependent sensor noise parameters, see equation 9\n",
    "sigma_range = 2;\n",
    "sigma_bearing = 3;\n",
    "sigma_id = 1;\n",
    "initial_measurement_variance = 0.01  #very\n",
    "\n",
    "Q_t = np.array([\n",
    "        [sigma_range**2, 0, 0],\n",
    "        [0, sigma_bearing**2, 0],\n",
    "        [0, 0, sigma_id**2]\n",
    "        ])\n",
    "\n",
    "measurement_prob = 0;\n",
    "n_robots = 1;\n",
    "robot_num = 1;"
   ]
  },
  {
   "cell_type": "markdown",
   "metadata": {},
   "source": [
    "### Initialise estimated parameters to zeros"
   ]
  },
  {
   "cell_type": "code",
   "execution_count": 5,
   "metadata": {},
   "outputs": [],
   "source": [
    "# add pose estimate matrix to Robots\n",
    "# data will be added to this as the program runs\n",
    "Robots[str(robot_num)]['Est'] = np.zeros((Robots[str(robot_num)]['G'].shape[0], 4))\n",
    "\n",
    "\n",
    "# initialize time, and pose estimate\n",
    "# start index is set to 600 because earlier data was found to cause problems\n",
    "start = 600; \n",
    "start = start -1 #due to python indexing\n",
    "\n",
    "# set start time\n",
    "t = Robots[str(robot_num)]['G'][start, 0]\n",
    "\n",
    "# set starting pose mean to pose groundtruth at start time\n",
    "poseMean = Robots[str(robot_num)]['G'][start,1:4].reshape(3,1)\n",
    "poseCov = np.ones((3,3)) *  initial_measurement_variance\n",
    "\n",
    "#tracks which measurement is next received\n",
    "#iterating to measurement index which time corresponds to \n",
    "measurementIndex = 0;\n",
    "\n",
    "#set up map between barcodes and landmark IDs\n",
    "#codeDict = containers.Map(Barcodes(:,2),Barcodes(:,1));\n",
    "\n",
    "#advance measurement index until the next measurement time is greater than the starting time\n",
    "while (Robots[str(robot_num)]['M'][measurementIndex, 0] < (t - 0.05)):\n",
    "        measurementIndex = measurementIndex + 1;"
   ]
  },
  {
   "cell_type": "markdown",
   "metadata": {},
   "source": [
    "### Running EKF on the dataset"
   ]
  },
  {
   "cell_type": "code",
   "execution_count": 6,
   "metadata": {},
   "outputs": [
    {
     "name": "stdout",
     "output_type": "stream",
     "text": [
      "10000th iteration done\n",
      "20000th iteration done\n",
      "30000th iteration done\n",
      "40000th iteration done\n",
      "50000th iteration done\n",
      "60000th iteration done\n",
      "70000th iteration done\n",
      "--------------------------------------\n"
     ]
    }
   ],
   "source": [
    "\"\"\"\n",
    "loop through all odometry and measurement samples\n",
    "updating the robot's pose estimate with each step\n",
    "reference table 7.2 in Probabilistic Robotics\n",
    "\"\"\"\n",
    "\n",
    "for i in range(start, Robots[str(robot_num)]['G'].shape[0]):\n",
    "\n",
    "    theta = poseMean[2, 0];\n",
    "    #update time\n",
    "    t = Robots[str(robot_num)]['G'][i,0]\n",
    "\n",
    "    #update movement vector per equation 1\n",
    "    u_t = np.array([Robots[str(robot_num)]['O'][i,1], Robots[str(robot_num)]['O'][i,2]]);\n",
    "\n",
    "    rot = deltaT * u_t[1];\n",
    "    halfRot = rot / 2;\n",
    "    trans = u_t[0] * deltaT;\n",
    "\n",
    "    #calculate the movement Jacobian per equation 2\n",
    "    G_t = np.array([\n",
    "                    [1, 0, trans * -np.sin(theta + halfRot)],\n",
    "                    [0, 1, trans *  np.cos(theta + halfRot)],\n",
    "                    [0, 0, 1]\n",
    "                    ])\n",
    "\n",
    "    #calculate motion covariance in control space per equation 3\n",
    "    M_t = np.array([\n",
    "                    [(alphas[0] * abs(u_t[0]) + alphas[1] * abs(u_t[1]))**2, 0],\n",
    "                    [0, (alphas[2] * abs(u_t[1]) + alphas[3] * abs(u_t[1]))**2]\n",
    "                    ])\n",
    "\n",
    "\n",
    "    #calculate Jacobian to transform motion covariance to state space per equation 4\n",
    "    V_t = np.array([\n",
    "                    [np.cos(theta + halfRot), -0.5 * np.sin(theta + halfRot)],\n",
    "                    [np.sin(theta + halfRot),  0.5 * np.cos(theta + halfRot)],\n",
    "                    [0, 1]\n",
    "                    ])\n",
    "    \n",
    "    #calculate pose update\n",
    "    poseUpdate = np.array([trans * np.cos(theta + halfRot), trans * np.sin(theta + halfRot), rot]).reshape(3,1)\n",
    "    \n",
    "    #calculate estimated pose mean per equation 1\n",
    "    poseMeanBar = poseMean + poseUpdate;\n",
    "    #print('poseMeanBar is ' + str(poseMeanBar))\n",
    "\n",
    "    #calculate estimated pose covariance per equation 5\n",
    "    poseCovBar = np.dot(G_t, np.dot(poseCov, G_t.T)) + np.dot(V_t, np.dot(M_t, V_t.T))\n",
    "    #print('poseCovBar is ' + str(poseCovBar))\n",
    "    \n",
    "    #get measurements for the current timestep, if any exist\n",
    "    z, measurementIndex = getObservations(Robots, robot_num, t, measurementIndex, codedict)\n",
    "    \n",
    "    #create two matrices for expected measurement and measurement covariance\n",
    "    S    = np.zeros((z.shape[1],3,3))\n",
    "    zHat = np.zeros((3, z.shape[1]))\n",
    "\n",
    "    #if any measurements are available\n",
    "    if z[2,0] > 1:\n",
    "        for k in range(0, z.shape[1]): #loop over every measurement\n",
    "            j = int(z[2,k]);\n",
    "\n",
    "            #get coordinates of the measured landmark\n",
    "            m = Landmark_Groundtruth[j-1, 1:3];\n",
    "\n",
    "            #compute the expected measurement per equations 6 and 7\n",
    "            xDist = (m[0] - poseMeanBar[0]).item(); #convert the np float to python float type for operations\n",
    "            yDist = (m[1] - poseMeanBar[1]).item();\n",
    "            q = np.power(xDist,2) + np.power(yDist,2)\n",
    "            \n",
    "\n",
    "            #constrains expected bearing to between 0 and 2*pi\n",
    "            temp = np.arctan2(yDist, xDist) \n",
    "            pred_bear = conBear(temp - poseMeanBar[2]);                \n",
    "            zHat[:,k] = np.array([np.sqrt(q), pred_bear, j]);\n",
    "\n",
    "            #calculate Jacobian of the measurement model per equation 8\n",
    "            H = np.array([\n",
    "                            [(-1 * (xDist / np.sqrt(q))), (-1 * (yDist / np.sqrt(q))), 0],\n",
    "                            [(yDist / q), (-1 * (xDist / q)), -1],\n",
    "                            [0, 0, 0]\n",
    "                        ])\n",
    "\n",
    "            #compute S per equation 9\n",
    "            S[k,:,:] = np.dot(H, np.dot(poseCovBar, H.T)) + Q_t;\n",
    "\n",
    "            #compute Kalman gain per equation 10\n",
    "            K = np.dot(poseCov, np.dot(H.T, np.linalg.inv(S[k,:,:])));\n",
    "\n",
    "            #update pose mean and covariance estimates per equations 11 and 12            \n",
    "            innovation = (z[:,k] - zHat[:,k]).reshape(3,1)\n",
    "            \n",
    "            poseMeanBar = poseMeanBar + np.dot(K, innovation);            \n",
    "            poseCovBar  = np.dot((np.eye(3) - np.dot(K,H)), poseCovBar);\n",
    "            \n",
    "    #update pose mean and covariance\n",
    "    #constrains heading to between 0 and 2*pi\n",
    "    poseMean = poseMeanBar;\n",
    "    poseMean[2] = conBear(poseMean[2]);\n",
    "    poseCov = poseCovBar;\n",
    "\n",
    "    #add pose mean to estimated position vector\n",
    "    Robots[str(robot_num)]['Est'][i,:] = np.array([t, poseMean[0], poseMean[1], poseMean[2]])\n",
    "    \n",
    "    if i % 10000 ==0:\n",
    "        print(str(i) + 'th iteration done')\n",
    "print('--------------------------------------')"
   ]
  },
  {
   "cell_type": "markdown",
   "metadata": {},
   "source": [
    "### Checking the RMSE on the estimation"
   ]
  },
  {
   "cell_type": "code",
   "execution_count": 7,
   "metadata": {},
   "outputs": [
    {
     "name": "stdout",
     "output_type": "stream",
     "text": [
      "Total deviation is 198918.6097448089\n"
     ]
    }
   ],
   "source": [
    "print('Total deviation is ' + str(path_loss(Robots, robot_num, 600)))"
   ]
  }
 ],
 "metadata": {
  "kernelspec": {
   "display_name": "Python 3",
   "language": "python",
   "name": "python3"
  },
  "language_info": {
   "codemirror_mode": {
    "name": "ipython",
    "version": 3
   },
   "file_extension": ".py",
   "mimetype": "text/x-python",
   "name": "python",
   "nbconvert_exporter": "python",
   "pygments_lexer": "ipython3",
   "version": "3.7.4"
  }
 },
 "nbformat": 4,
 "nbformat_minor": 2
}
