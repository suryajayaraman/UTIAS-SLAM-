{
 "cells": [
  {
   "cell_type": "markdown",
   "metadata": {},
   "source": [
    "## EKF Localisation using UTIAS dataset with known correlation"
   ]
  },
  {
   "cell_type": "markdown",
   "metadata": {},
   "source": [
    "### Importing packages and other helper files"
   ]
  },
  {
   "cell_type": "code",
   "execution_count": 1,
   "metadata": {},
   "outputs": [],
   "source": [
    "import numpy as np\n",
    "import matplotlib.pylab as plt\n",
    "from helper_functions import *\n",
    "import time\n",
    "from IPython import display"
   ]
  },
  {
   "cell_type": "markdown",
   "metadata": {},
   "source": [
    "### Defining constants for the simulation"
   ]
  },
  {
   "cell_type": "code",
   "execution_count": 2,
   "metadata": {},
   "outputs": [],
   "source": [
    "deltaT = 0.02; \n",
    "\n",
    "#robot-dependent motion noise parameters, see equation 3\n",
    "alphas = [0.2, 0.03, 0.09, 0.08, 0, 0];  \n",
    "\n",
    "#robot-dependent sensor noise parameters, see equation 9\n",
    "sigma_range = 2;\n",
    "sigma_bearing = 3;\n",
    "sigma_id = 1;\n",
    "initial_measurement_variance = 0.01  #very\n",
    "\n",
    "Q_t = np.array([\n",
    "        [sigma_range**2, 0, 0],\n",
    "        [0, sigma_bearing**2, 0],\n",
    "        [0, 0, sigma_id**2]\n",
    "        ])\n",
    "\n",
    "measurement_prob = 0;\n",
    "n_robots = 1;\n",
    "robot_num = 1;\n",
    "\n",
    "#from Andre Kramer's script\n",
    "r_robot = 0.165;\n",
    "r_landmark = 0.055;"
   ]
  },
  {
   "cell_type": "markdown",
   "metadata": {},
   "source": [
    "### Load and resample raw data from UTIAS data set"
   ]
  },
  {
   "cell_type": "code",
   "execution_count": 3,
   "metadata": {},
   "outputs": [
    {
     "name": "stdout",
     "output_type": "stream",
     "text": [
      "Loading data\n",
      "Reading robot1_Groundtruth data\n",
      "Reading robot1_odometry data\n",
      "Reading robot1_measurements data\n",
      "Robot1 data read successfully\n",
      "------------------------------------------------\n",
      "All data successfully read\n",
      "------------------------------------------------\n"
     ]
    }
   ],
   "source": [
    "#The robot's position groundtruth, odometry, and measurements are stored in Robots\n",
    "Barcodes, Landmark_Groundtruth, Robots = load_MRCLAM_dataSet();\n",
    "Barcodes = Barcodes.astype(int)\n",
    "codedict = dict(np.column_stack((Barcodes[:,1], Barcodes[:,0])))"
   ]
  },
  {
   "cell_type": "code",
   "execution_count": 4,
   "metadata": {},
   "outputs": [],
   "source": [
    "Robots, timesteps = sample_MRCLAM_dataSet(Robots, deltaT)"
   ]
  },
  {
   "cell_type": "markdown",
   "metadata": {},
   "source": [
    "### Initialise estimated parameters to zeros"
   ]
  },
  {
   "cell_type": "code",
   "execution_count": 5,
   "metadata": {},
   "outputs": [],
   "source": [
    "# add pose estimate matrix to Robots\n",
    "# data will be added to this as the program runs\n",
    "Robots[str(robot_num)]['Est'] = np.zeros((Robots[str(robot_num)]['G'].shape[0], 4))\n",
    "\n",
    "\n",
    "# initialize time, and pose estimate\n",
    "# start index is set to 600 because earlier data was found to cause problems\n",
    "start = 600; \n",
    "start = start -1 #due to python indexing\n",
    "\n",
    "# set start time\n",
    "t = Robots[str(robot_num)]['G'][start, 0]\n",
    "\n",
    "# set starting pose mean to pose groundtruth at start time\n",
    "poseMean = Robots[str(robot_num)]['G'][start,1:4].reshape(3,1)\n",
    "poseCov = np.ones((3,3)) *  initial_measurement_variance\n",
    "\n",
    "#tracks which measurement is next received\n",
    "#iterating to measurement index which time corresponds to \n",
    "measurementIndex = 0;\n",
    "\n",
    "#advance measurement index until the next measurement time is greater than the starting time\n",
    "while (Robots[str(robot_num)]['M'][measurementIndex, 0] < (t - 0.05)):\n",
    "        measurementIndex = measurementIndex + 1;"
   ]
  },
  {
   "cell_type": "markdown",
   "metadata": {},
   "source": [
    "### Run filter for input Odometry and Lidar data"
   ]
  },
  {
   "cell_type": "code",
   "execution_count": 6,
   "metadata": {},
   "outputs": [
    {
     "name": "stdout",
     "output_type": "stream",
     "text": [
      "10000th iteration done\n",
      "20000th iteration done\n",
      "30000th iteration done\n",
      "40000th iteration done\n",
      "50000th iteration done\n",
      "60000th iteration done\n",
      "70000th iteration done\n",
      "--------------------------------------\n"
     ]
    }
   ],
   "source": [
    "#loop through all odometry and measurement samples\n",
    "#updating the robot's pose estimate with each step\n",
    "#reference table 7.2 in Probabilistic Robotics\n",
    "\n",
    "for i in range(start, Robots[str(robot_num)]['G'].shape[0]):\n",
    "    theta = poseMean[2, 0];\n",
    "\n",
    "    #update time\n",
    "    t = Robots[str(robot_num)]['G'][i,0]\n",
    "\n",
    "    #update movement vector per equation 1\n",
    "    u_t = np.array([Robots[str(robot_num)]['O'][i,1], Robots[str(robot_num)]['O'][i,2]]);\n",
    "\n",
    "\n",
    "    rot = deltaT * u_t[1];\n",
    "    halfRot = rot / 2;\n",
    "    trans = u_t[0] * deltaT;\n",
    "\n",
    "    #calculate the movement Jacobian per equation 2\n",
    "    G_t = np.array([\n",
    "                    [1, 0, trans * -np.sin(theta + halfRot)],\n",
    "                    [0, 1, trans *  np.cos(theta + halfRot)],\n",
    "                    [0, 0, 1]\n",
    "                    ])\n",
    "\n",
    "    #calculate motion covariance in control space per equation 3\n",
    "    M_t = np.array([\n",
    "                    [(alphas[0] * abs(u_t[0]) + alphas[1] * abs(u_t[1]))**2, 0],\n",
    "                    [0, (alphas[2] * abs(u_t[1]) + alphas[3] * abs(u_t[1]))**2]\n",
    "                    ])\n",
    "\n",
    "\n",
    "    #calculate Jacobian to transform motion covariance to state space per equation 4\n",
    "    V_t = np.array([\n",
    "                    [np.cos(theta + halfRot), -0.5 * np.sin(theta + halfRot)],\n",
    "                    [np.sin(theta + halfRot),  0.5 * np.cos(theta + halfRot)],\n",
    "                    [0, 1]\n",
    "                    ])\n",
    "\n",
    "    \n",
    "    #calculate pose update\n",
    "    poseUpdate = np.array([trans * np.cos(theta + halfRot), trans * np.sin(theta + halfRot), rot]).reshape(3,1)\n",
    "    \n",
    "    #calculate estimated pose mean per equation 1\n",
    "    poseMeanBar = poseMean + poseUpdate;\n",
    "\n",
    "    #calculate estimated pose covariance per equation 5\n",
    "    poseCovBar = np.dot(G_t, np.dot(poseCov, G_t.T)) + np.dot(V_t, np.dot(M_t, V_t.T))\n",
    "    \n",
    "    #get measurements for the current timestep, if any exist\n",
    "    z, measurementIndex = getObservations(Robots, robot_num, t, measurementIndex, codedict)\n",
    "    \n",
    "    #create two matrices for expected measurement and measurement covariance\n",
    "    S    = np.zeros((z.shape[1],3,3))\n",
    "    zHat = np.zeros((3, z.shape[1]))\n",
    "    \n",
    "    #if any measurements are available\n",
    "    if z[2,0] > 1:\n",
    "        for k in range(0, z.shape[1]): #loop over every measurement\n",
    "            j = int(z[2,k]);\n",
    "\n",
    "            #get coordinates of the measured landmark\n",
    "            m = Landmark_Groundtruth[j-1, 1:3];\n",
    "\n",
    "            #compute the expected measurement per equations 6 and 7\n",
    "            xDist = (m[0] - poseMeanBar[0]).item(); #convert the np float to python float type for operations\n",
    "            yDist = (m[1] - poseMeanBar[1]).item();\n",
    "            q = np.power(xDist,2) + np.power(yDist,2)\n",
    "            \n",
    "            #constrains expected bearing to between 0 and 2*pi\n",
    "            temp = np.arctan2(yDist, xDist) \n",
    "            pred_bear = conBear(temp - poseMeanBar[2]);                \n",
    "            zHat[:,k] = np.array([np.sqrt(q), pred_bear, j]);\n",
    "\n",
    "            #calculate Jacobian of the measurement model per equation 8\n",
    "            H = np.array([\n",
    "                            [(-1 * (xDist / np.sqrt(q))), (-1 * (yDist / np.sqrt(q))), 0],\n",
    "                            [(yDist / q), (-1 * (xDist / q)), -1],\n",
    "                            [0, 0, 0]\n",
    "                        ])\n",
    "\n",
    "            #compute S per equation 9\n",
    "            S[k,:,:] = np.dot(H, np.dot(poseCovBar, H.T)) + Q_t;\n",
    "            \n",
    "            #compute Kalman gain per equation 10\n",
    "            K = np.dot(poseCov, np.dot(H.T, np.linalg.inv(S[k,:,:])));\n",
    "\n",
    "            #update pose mean and covariance estimates per equations 11 and 12\n",
    "            innovation = (z[:,k] - zHat[:,k]).reshape(3,1)\n",
    "            poseMeanBar = poseMeanBar + np.dot(K, innovation);            \n",
    "            poseCovBar  = np.dot((np.eye(3) - np.dot(K,H)), poseCovBar);\n",
    "            \n",
    "    #update pose mean and covariance\n",
    "    #constrains heading to between 0 and 2*pi\n",
    "    poseMean = poseMeanBar;\n",
    "    poseMean[2] = conBear(poseMean[2]);\n",
    "    poseCov = poseCovBar;\n",
    "\n",
    "    #add pose mean to estimated position vector\n",
    "    Robots[str(robot_num)]['Est'][i,:] = np.array([t, poseMean[0], poseMean[1], poseMean[2]])\n",
    "\n",
    "    if i % 10000 ==0:\n",
    "        print(str(i) + 'th iteration done')\n",
    "print('--------------------------------------')"
   ]
  },
  {
   "cell_type": "markdown",
   "metadata": {},
   "source": [
    "### Set plotting parameters for visualising output"
   ]
  },
  {
   "cell_type": "code",
   "execution_count": 7,
   "metadata": {},
   "outputs": [],
   "source": [
    "plot_options = {}\n",
    "plot_options['refresh_rate'] = 0.5 #time in seoconds\n",
    "plot_options['Grid_on'] = True\n",
    "plot_options['plot_GT'] = True \n",
    "plot_options['plot_Est'] = True \n",
    "plot_options['cov_ellipse'] = False\n",
    "plot_options['plot_Landmarks'] = True \n",
    "plot_options['plot_matlab_op'] = True "
   ]
  },
  {
   "cell_type": "markdown",
   "metadata": {},
   "source": [
    "### Reading Matlab reference output"
   ]
  },
  {
   "cell_type": "code",
   "execution_count": 8,
   "metadata": {},
   "outputs": [],
   "source": [
    "est_output = Robots['1']['Est']\n",
    "matlab_op_file = 'localization/test.dat'\n",
    "matlab_op_data = np.loadtxt(matlab_op_file)"
   ]
  },
  {
   "cell_type": "markdown",
   "metadata": {},
   "source": [
    "### Plotting function"
   ]
  },
  {
   "cell_type": "code",
   "execution_count": 9,
   "metadata": {},
   "outputs": [],
   "source": [
    "def plot_results(Robots, robot_num, plot_options, start_index, end_index, matlab_op_data):\n",
    "    \n",
    "    target_bot = Robots[str(robot_num)]\n",
    "    \n",
    "    #exit function if G is not avilable\n",
    "    if ('G' in target_bot):\n",
    "        if plot_options['plot_GT'] == True:\n",
    "            print('Plotting GT trajectory')\n",
    "            plot_gt_traj = True\n",
    "    else:\n",
    "        print('Cannot find GT trajectory, exiting function')\n",
    "        return None \n",
    "    \n",
    "    #check if est traj is to be plotted    \n",
    "    plot_est_traj = ('Est' in target_bot) and (plot_options['plot_Est'] == True)\n",
    "    if plot_est_traj == True:\n",
    "        print('Plotting estimated trajectory')\n",
    "    else:\n",
    "        print('Cannot plot estimated trajectory')\n",
    "    \n",
    "    plt.figure(figsize=(18,12))\n",
    "    plt.axis('equal')\n",
    "    xmin, xmax = target_bot['G'][:,1].min(), target_bot['G'][:,1].max()\n",
    "    ymin, ymax = target_bot['G'][:,2].min(), target_bot['G'][:,2].max()\n",
    "    plt.xlim(xmin, xmax)\n",
    "    plt.ylim(ymin, ymax)\n",
    "    \n",
    "    if plot_options['Grid_on']:\n",
    "        plt.grid(True)\n",
    "    step_size = int(plot_options['refresh_rate'] / deltaT)\n",
    "    for i in range(start_index, end_index, step_size):\n",
    "        try:\n",
    "            plt.clf()\n",
    "            x,y,theta = target_bot['G'][i,1], target_bot['G'][i,2], target_bot['G'][i,3]\n",
    "            dx, dy = (r_robot + 0.05) * np.cos(theta), (r_robot + 0.05) * np.sin(theta) \n",
    "            plt.plot(x, y, 'go', label = 'GT_pose')\n",
    "            plt.arrow(x,y,dx,dy)\n",
    "\n",
    "            if plot_est_traj:\n",
    "                ex,ey,etheta = target_bot['Est'][i,1], target_bot['Est'][i,2], target_bot['Est'][i,3]\n",
    "                dex, dey = (r_robot + 0.05) * np.cos(etheta), (r_robot + 0.05) * np.sin(etheta) \n",
    "                plt.plot(ex,ey, 'rx', label = 'Est_pose')\n",
    "                plt.arrow(ex,ey,dex,dey)\n",
    "\n",
    "            if plot_options['plot_Landmarks'] ==True:\n",
    "                plt.plot(Landmark_Groundtruth[:,1], Landmark_Groundtruth[:,2], 'co', label = 'Landmarks')\n",
    "\n",
    "            if plot_options['plot_matlab_op'] ==True:\n",
    "                mx,my,mtheta = matlab_op_data[i,1], matlab_op_data[i,2], matlab_op_data[i,3]\n",
    "                dmx, dmy = (r_robot + 0.05) * np.cos(mtheta), (r_robot + 0.05) * np.sin(mtheta) \n",
    "                plt.plot(mx,my, 'gx', label = 'matlab_output')\n",
    "                plt.arrow(mx,my,dmx,dmy)\n",
    "                \n",
    "            plt.legend()\n",
    "            display.display(plt.gcf())\n",
    "            display.clear_output(wait=True)\n",
    "\n",
    "        except KeyboardInterrupt:\n",
    "            break\n",
    "    print('Plotting done')\n",
    "    return None"
   ]
  },
  {
   "cell_type": "markdown",
   "metadata": {},
   "source": [
    "### Calling plot function to view output"
   ]
  },
  {
   "cell_type": "code",
   "execution_count": 10,
   "metadata": {},
   "outputs": [
    {
     "name": "stdout",
     "output_type": "stream",
     "text": [
      "Plotting done\n"
     ]
    },
    {
     "data": {
      "image/png": "[encoded data removed]",
      "text/plain": [
       "<Figure size 1296x864 with 1 Axes>"
      ]
     },
     "metadata": {
      "needs_background": "light"
     },
     "output_type": "display_data"
    }
   ],
   "source": [
    "#%matplotlib notebook\n",
    "plot_results(Robots, 1, plot_options, 600, 10000, matlab_op_data)"
   ]
  },
  {
   "cell_type": "markdown",
   "metadata": {},
   "source": [
    "### RMSE Error as loss function"
   ]
  },
  {
   "cell_type": "code",
   "execution_count": 11,
   "metadata": {},
   "outputs": [
    {
     "name": "stdout",
     "output_type": "stream",
     "text": [
      "Total deviation is 186094.96315278174\n"
     ]
    }
   ],
   "source": [
    "print('Total deviation is ' + str(path_loss(Robots, robot_num, 10000)))"
   ]
  }
 ],
 "metadata": {
  "kernelspec": {
   "display_name": "Python 3",
   "language": "python",
   "name": "python3"
  },
  "language_info": {
   "codemirror_mode": {
    "name": "ipython",
    "version": 3
   },
   "file_extension": ".py",
   "mimetype": "text/x-python",
   "name": "python",
   "nbconvert_exporter": "python",
   "pygments_lexer": "ipython3",
   "version": "3.7.4"
  }
 },
 "nbformat": 4,
 "nbformat_minor": 2
}
