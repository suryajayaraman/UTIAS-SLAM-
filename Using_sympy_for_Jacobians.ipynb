{
 "cells": [
  {
   "cell_type": "code",
   "execution_count": 1,
   "metadata": {},
   "outputs": [],
   "source": [
    "import sympy\n",
    "import numpy as np\n",
    "sympy.init_printing(use_latex=True)"
   ]
  },
  {
   "cell_type": "markdown",
   "metadata": {},
   "source": [
    "### Example provided in '011- EKF tutorial' in rlabbe's repo"
   ]
  },
  {
   "cell_type": "code",
   "execution_count": 2,
   "metadata": {},
   "outputs": [
    {
     "data": {
      "text/latex": [
       "$$\\left[\\begin{matrix}\\frac{x}{\\sqrt{x^{2} + y^{2}}} & 0 & \\frac{y}{\\sqrt{x^{2} + y^{2}}}\\end{matrix}\\right]$$"
      ],
      "text/plain": [
       "⎡     x                y      ⎤\n",
       "⎢────────────  0  ────────────⎥\n",
       "⎢   _________        _________⎥\n",
       "⎢  ╱  2    2        ╱  2    2 ⎥\n",
       "⎣╲╱  x  + y       ╲╱  x  + y  ⎦"
      ]
     },
     "execution_count": 2,
     "metadata": {},
     "output_type": "execute_result"
    }
   ],
   "source": [
    "x, x_vel, y = sympy.symbols('x, x_vel y')\n",
    "H = sympy.Matrix([sympy.sqrt(x**2 + y**2)])\n",
    "state = sympy.Matrix([x, x_vel, y])\n",
    "H.jacobian(state)"
   ]
  },
  {
   "cell_type": "markdown",
   "metadata": {},
   "source": [
    "### Motion model for Differential robot referred in Andrew Kramer's blog"
   ]
  },
  {
   "cell_type": "code",
   "execution_count": 3,
   "metadata": {},
   "outputs": [],
   "source": [
    "#state variables\n",
    "x, y, theta = sympy.symbols('x, y, theta', real=True)\n",
    "\n",
    "#input variables\n",
    "v_t, omega_t = sympy.symbols('v_t, omega_t', real=True)\n",
    "\n",
    "# measurement variables\n",
    "l_x, l_y, l_id = sympy.symbols('l_x, l_y, l_id', real=True)\n",
    "\n",
    "#common variables\n",
    "delta_t      = sympy.symbols('delta_t', real=True)"
   ]
  },
  {
   "cell_type": "code",
   "execution_count": 10,
   "metadata": {},
   "outputs": [],
   "source": [
    "subs_dict = {x:0.0, y:0.0, theta:0.0, v_t:0.0, omega_t:0.0, delta_t :0.0}"
   ]
  },
  {
   "cell_type": "code",
   "execution_count": 11,
   "metadata": {},
   "outputs": [],
   "source": [
    "motion_model = sympy.Matrix([\n",
    "                            [x + v_t * delta_t * sympy.cos(theta + (omega_t * delta_t / 2.0))],\n",
    "                            [y + v_t * delta_t * sympy.sin(theta + (omega_t * delta_t / 2.0))],\n",
    "                            [theta + omega_t * delta_t]\n",
    "                        ])\n",
    "\n",
    "state_vector = sympy.Matrix([x, y, theta])\n",
    "input_vector = sympy.Matrix([v_t, omega_t])"
   ]
  },
  {
   "cell_type": "code",
   "execution_count": 12,
   "metadata": {},
   "outputs": [],
   "source": [
    "mot_output = motion_model.evalf(subs = subs_dict)"
   ]
  },
  {
   "cell_type": "code",
   "execution_count": 15,
   "metadata": {},
   "outputs": [
    {
     "name": "stdout",
     "output_type": "stream",
     "text": [
      "[[1.18182126e-125]\n",
      " [1.18182126e-125]\n",
      " [1.18182126e-125]]\n"
     ]
    }
   ],
   "source": [
    "u = np.array(mot_output).astype(float)\n",
    "print(u)"
   ]
  },
  {
   "cell_type": "markdown",
   "metadata": {},
   "source": [
    "### Computing jacobians for motion model wrt different inputs"
   ]
  },
  {
   "cell_type": "code",
   "execution_count": 16,
   "metadata": {},
   "outputs": [
    {
     "data": {
      "text/latex": [
       "$$\\left[\\begin{matrix}1 & 0 & - \\delta_{t} v_{t} \\sin{\\left (0.5 \\delta_{t} \\omega_{t} + \\theta \\right )}\\\\0 & 1 & \\delta_{t} v_{t} \\cos{\\left (0.5 \\delta_{t} \\omega_{t} + \\theta \\right )}\\\\0 & 0 & 1\\end{matrix}\\right]$$"
      ],
      "text/plain": [
       "⎡1  0  -δₜ⋅vₜ⋅sin(0.5⋅δₜ⋅ωₜ + θ)⎤\n",
       "⎢                               ⎥\n",
       "⎢0  1  δₜ⋅vₜ⋅cos(0.5⋅δₜ⋅ωₜ + θ) ⎥\n",
       "⎢                               ⎥\n",
       "⎣0  0              1            ⎦"
      ]
     },
     "execution_count": 16,
     "metadata": {},
     "output_type": "execute_result"
    }
   ],
   "source": [
    "motion_model.jacobian(state_vector)"
   ]
  },
  {
   "cell_type": "code",
   "execution_count": 17,
   "metadata": {},
   "outputs": [
    {
     "data": {
      "text/latex": [
       "$$\\left[\\begin{matrix}\\delta_{t} \\cos{\\left (0.5 \\delta_{t} \\omega_{t} + \\theta \\right )} & - 0.5 \\delta_{t}^{2} v_{t} \\sin{\\left (0.5 \\delta_{t} \\omega_{t} + \\theta \\right )}\\\\\\delta_{t} \\sin{\\left (0.5 \\delta_{t} \\omega_{t} + \\theta \\right )} & 0.5 \\delta_{t}^{2} v_{t} \\cos{\\left (0.5 \\delta_{t} \\omega_{t} + \\theta \\right )}\\\\0 & \\delta_{t}\\end{matrix}\\right]$$"
      ],
      "text/plain": [
       "⎡                              2                      ⎤\n",
       "⎢δₜ⋅cos(0.5⋅δₜ⋅ωₜ + θ)  -0.5⋅δₜ ⋅vₜ⋅sin(0.5⋅δₜ⋅ωₜ + θ)⎥\n",
       "⎢                                                     ⎥\n",
       "⎢                             2                       ⎥\n",
       "⎢δₜ⋅sin(0.5⋅δₜ⋅ωₜ + θ)  0.5⋅δₜ ⋅vₜ⋅cos(0.5⋅δₜ⋅ωₜ + θ) ⎥\n",
       "⎢                                                     ⎥\n",
       "⎣          0                          δₜ              ⎦"
      ]
     },
     "execution_count": 17,
     "metadata": {},
     "output_type": "execute_result"
    }
   ],
   "source": [
    "motion_model.jacobian(input_vector)"
   ]
  },
  {
   "cell_type": "markdown",
   "metadata": {},
   "source": [
    "### Evaluating jacobian at some point and converting to np array"
   ]
  },
  {
   "cell_type": "code",
   "execution_count": 20,
   "metadata": {},
   "outputs": [
    {
     "data": {
      "text/latex": [
       "$$\\left[\\begin{matrix}1.0 & 0 & 0\\\\0 & 1.0 & 0\\\\0 & 0 & 1.0\\end{matrix}\\right]$$"
      ],
      "text/plain": [
       "⎡1.0   0    0 ⎤\n",
       "⎢             ⎥\n",
       "⎢ 0   1.0   0 ⎥\n",
       "⎢             ⎥\n",
       "⎣ 0    0   1.0⎦"
      ]
     },
     "execution_count": 20,
     "metadata": {},
     "output_type": "execute_result"
    }
   ],
   "source": [
    "F = motion_model.jacobian(state_vector)\n",
    "F.evalf(subs = subs_dict)"
   ]
  },
  {
   "cell_type": "code",
   "execution_count": 21,
   "metadata": {},
   "outputs": [],
   "source": [
    "a = F.evalf(subs = subs_dict)"
   ]
  },
  {
   "cell_type": "code",
   "execution_count": 22,
   "metadata": {},
   "outputs": [
    {
     "data": {
      "text/plain": [
       "sympy.matrices.dense.MutableDenseMatrix"
      ]
     },
     "execution_count": 22,
     "metadata": {},
     "output_type": "execute_result"
    }
   ],
   "source": [
    "type(a)"
   ]
  },
  {
   "cell_type": "code",
   "execution_count": 23,
   "metadata": {},
   "outputs": [],
   "source": [
    "u = np.array(a).astype(float)"
   ]
  },
  {
   "cell_type": "code",
   "execution_count": 24,
   "metadata": {},
   "outputs": [
    {
     "data": {
      "text/plain": [
       "array([[1., 0., 0.],\n",
       "       [0., 1., 0.],\n",
       "       [0., 0., 1.]])"
      ]
     },
     "execution_count": 24,
     "metadata": {},
     "output_type": "execute_result"
    }
   ],
   "source": [
    "u"
   ]
  },
  {
   "cell_type": "markdown",
   "metadata": {},
   "source": [
    "### Measurement model"
   ]
  },
  {
   "cell_type": "code",
   "execution_count": 25,
   "metadata": {},
   "outputs": [],
   "source": [
    "measurement_model = sympy.Matrix([\n",
    "                                [sympy.sqrt((l_x-x)**2 + (l_y-y)**2)],\n",
    "                                [sympy.atan2(l_y-y, l_x-x) - theta],\n",
    "                                [l_id]\n",
    "                                ])"
   ]
  },
  {
   "cell_type": "code",
   "execution_count": 26,
   "metadata": {},
   "outputs": [
    {
     "data": {
      "text/latex": [
       "$$\\left[\\begin{matrix}\\frac{- l_{x} + x}{\\sqrt{\\left(l_{x} - x\\right)^{2} + \\left(l_{y} - y\\right)^{2}}} & \\frac{- l_{y} + y}{\\sqrt{\\left(l_{x} - x\\right)^{2} + \\left(l_{y} - y\\right)^{2}}} & 0\\\\- \\frac{- l_{y} + y}{\\left(l_{x} - x\\right)^{2} + \\left(l_{y} - y\\right)^{2}} & - \\frac{l_{x} - x}{\\left(l_{x} - x\\right)^{2} + \\left(l_{y} - y\\right)^{2}} & -1\\\\0 & 0 & 0\\end{matrix}\\right]$$"
      ],
      "text/plain": [
       "⎡          -lₓ + x                      -l_y + y             ⎤\n",
       "⎢───────────────────────────  ───────────────────────────  0 ⎥\n",
       "⎢   ________________________     ________________________    ⎥\n",
       "⎢  ╱         2            2     ╱         2            2     ⎥\n",
       "⎢╲╱  (lₓ - x)  + (l_y - y)    ╲╱  (lₓ - x)  + (l_y - y)      ⎥\n",
       "⎢                                                            ⎥\n",
       "⎢       -(-l_y + y)                   -(lₓ - x)              ⎥\n",
       "⎢  ──────────────────────       ──────────────────────     -1⎥\n",
       "⎢          2            2               2            2       ⎥\n",
       "⎢  (lₓ - x)  + (l_y - y)        (lₓ - x)  + (l_y - y)        ⎥\n",
       "⎢                                                            ⎥\n",
       "⎣             0                            0               0 ⎦"
      ]
     },
     "execution_count": 26,
     "metadata": {},
     "output_type": "execute_result"
    }
   ],
   "source": [
    "measurement_model.jacobian(state_vector)"
   ]
  },
  {
   "cell_type": "markdown",
   "metadata": {},
   "source": [
    "### Conclusion"
   ]
  },
  {
   "cell_type": "markdown",
   "metadata": {},
   "source": [
    "https://docs.sympy.org/latest/modules/numeric-computation.html"
   ]
  },
  {
   "cell_type": "markdown",
   "metadata": {},
   "source": [
    "As described in the link above, the method above cannot be used to evaluate jacobians for a real-time filter, as\n",
    "it consumes a lot of time\n",
    "\n",
    "Purpose\n",
    "-------\n",
    "1. Compute jacobians for those hard to solve by hand\n",
    "2. Check correctness of jacobians already computed\n",
    "3. Simplify expressions for easy understanding"
   ]
  }
 ],
 "metadata": {
  "kernelspec": {
   "display_name": "Python 3",
   "language": "python",
   "name": "python3"
  },
  "language_info": {
   "codemirror_mode": {
    "name": "ipython",
    "version": 3
   },
   "file_extension": ".py",
   "mimetype": "text/x-python",
   "name": "python",
   "nbconvert_exporter": "python",
   "pygments_lexer": "ipython3",
   "version": "3.7.4"
  }
 },
 "nbformat": 4,
 "nbformat_minor": 2
}
